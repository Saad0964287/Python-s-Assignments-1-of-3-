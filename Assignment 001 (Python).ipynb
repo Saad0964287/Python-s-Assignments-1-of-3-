{
 "cells": [
  {
   "cell_type": "code",
   "execution_count": null,
   "metadata": {},
   "outputs": [],
   "source": [
    "#Addition of two inputs\n",
    "X = int(input(\"Enter First Value : \"))\n",
    "Y = int(input(\"Enter Second Value : \"))\n",
    "Z = X + Y\n",
    "print(\"Addition : \" , Z)"
   ]
  },
  {
   "cell_type": "code",
   "execution_count": null,
   "metadata": {},
   "outputs": [],
   "source": [
    "#Compute Area of Circle\n",
    "Radius = int(input(\"Enter radius of circle :  \"))\n",
    "Area = (3.142)*((Radius)^2)\n",
    "print (\"Area of Circle  :  \", Area)"
   ]
  },
  {
   "cell_type": "code",
   "execution_count": null,
   "metadata": {},
   "outputs": [],
   "source": [
    "#date and time\n",
    "import datetime \n",
    "now = datetime.datetime.now() \n",
    "print (\"Current date and time : \", now)"
   ]
  },
  {
   "cell_type": "code",
   "execution_count": null,
   "metadata": {},
   "outputs": [],
   "source": [
    "#Print your name\n",
    "x = input(\"Enter Your First Name : \")\n",
    "y = input(\"Enter Your Last Name : \")\n",
    "print(y,\" \",x)\n"
   ]
  },
  {
   "cell_type": "code",
   "execution_count": null,
   "metadata": {},
   "outputs": [],
   "source": [
    "#Poem (Twinkle Twinkle)\n",
    "print(\"Twinkle, twinkle, little star,\")\n",
    "print(\" \" * 6,\"How I wonder what you are!\")\n",
    "print(\" \" * 12 ,\"Up above the world so high,\")\n",
    "print(\" \" * 12,\"Like a diamond in the sky.\")\n",
    "print(\"Twinkle, twinkle, little star,\")\n",
    "print(\" \" * 6,\"How I wonder what you are\") "
   ]
  },
  {
   "cell_type": "code",
   "execution_count": null,
   "metadata": {},
   "outputs": [],
   "source": [
    "#Python Version\n",
    "import sys \n",
    "print(\"Python version\") \n",
    "print (sys.version) \n",
    "print(\"Version :\") \n",
    "print (sys.version_info)"
   ]
  },
  {
   "cell_type": "code",
   "execution_count": null,
   "metadata": {},
   "outputs": [],
   "source": []
  }
 ],
 "metadata": {
  "kernelspec": {
   "display_name": "Python 3",
   "language": "python",
   "name": "python3"
  },
  "language_info": {
   "codemirror_mode": {
    "name": "ipython",
    "version": 3
   },
   "file_extension": ".py",
   "mimetype": "text/x-python",
   "name": "python",
   "nbconvert_exporter": "python",
   "pygments_lexer": "ipython3",
   "version": "3.7.3"
  }
 },
 "nbformat": 4,
 "nbformat_minor": 4
}
