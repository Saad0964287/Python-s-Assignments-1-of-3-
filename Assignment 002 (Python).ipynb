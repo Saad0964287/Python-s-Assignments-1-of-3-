{
 "cells": [
  {
   "cell_type": "code",
   "execution_count": null,
   "metadata": {},
   "outputs": [],
   "source": [
    "#Marksheet\n",
    "a = int(input(\"Enter your Marks In URDU : \"))\n",
    "b = int(input(\"Enter your Marks In ENGLISH : \"))\n",
    "c = int(input(\"Enter your Marks In PHYSICS : \"))\n",
    "d = int(input(\"Enter your Marks In MATHEMATICS : \"))\n",
    "e = int(input(\"Enter your Marks In CHEMISTRY : \"))\n",
    "total = a+b+c+d+e\n",
    "per = (total/500)*100\n",
    "\n",
    "print(\"Your Percentage : \",per)\n",
    "if per >= 80 and per <= 100 :\n",
    " print(\"Your Grade Is \" \"A+\")\n",
    "elif per >= 70 and per < 80 :\n",
    " print (\"Your Grade Is \" \"A\")\n",
    "elif per >= 60 and per < 70 :\n",
    " print(\"Your Grade Is \" \"B\")\n",
    "elif per >= 50 and per < 60 :\n",
    " print(\"Your Grade Is \" \"C\")\n",
    "elif per >= 40 and per < 50 :\n",
    " print(\"Your Grade Is \" \"D\")\n",
    "else :\n",
    " print(\"You Are Fail\")"
   ]
  },
  {
   "cell_type": "code",
   "execution_count": null,
   "metadata": {},
   "outputs": [],
   "source": [
    "#Sum Of List\n",
    "a = [33,99,77]\n",
    "z = sum(a)\n",
    "print(\"Sum of LIST :\",z)"
   ]
  },
  {
   "cell_type": "code",
   "execution_count": null,
   "metadata": {},
   "outputs": [],
   "source": [
    "#Length of List\n",
    "List = [33,99,62,99]\n",
    "Length = len(List) \n",
    "print(Length)"
   ]
  },
  {
   "cell_type": "code",
   "execution_count": null,
   "metadata": {},
   "outputs": [],
   "source": [
    "#Largest Number\n",
    "number = [ 233, 92, 93, 245, 799, 8932, 9939,2883,7,28290]\n",
    "largest = max(number)\n",
    "print (largest)"
   ]
  },
  {
   "cell_type": "code",
   "execution_count": null,
   "metadata": {},
   "outputs": [],
   "source": [
    "#Identify the given number is even or odd\n",
    "All = int(input(\"Enter Number :\"))\n",
    "tor = All % 2 == 0\n",
    "if tor == 0 : \n",
    " print(\"You Enter ODD Number\")\n",
    "else :\n",
    " print(\"You Enter EVEN Number\")"
   ]
  },
  {
   "cell_type": "code",
   "execution_count": null,
   "metadata": {},
   "outputs": [],
   "source": [
    "#Print out less than 5\n",
    "a = [1, 1, 2, 3, 5, 8, 13, 21, 34, 55, 89]\n",
    "new_list = []\n",
    "for item in a:\n",
    "    if item < 5:\n",
    "        new_list.append(item) \n",
    "        print(new_list)"
   ]
  },
  {
   "cell_type": "code",
   "execution_count": null,
   "metadata": {},
   "outputs": [],
   "source": []
  }
 ],
 "metadata": {
  "kernelspec": {
   "display_name": "Python 3",
   "language": "python",
   "name": "python3"
  },
  "language_info": {
   "codemirror_mode": {
    "name": "ipython",
    "version": 3
   },
   "file_extension": ".py",
   "mimetype": "text/x-python",
   "name": "python",
   "nbconvert_exporter": "python",
   "pygments_lexer": "ipython3",
   "version": "3.7.3"
  }
 },
 "nbformat": 4,
 "nbformat_minor": 4
}
