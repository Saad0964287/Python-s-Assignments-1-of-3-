{
 "cells": [
  {
   "cell_type": "code",
   "execution_count": 3,
   "metadata": {},
   "outputs": [
    {
     "name": "stdout",
     "output_type": "stream",
     "text": [
      "Don't have\n",
      "Don't have\n",
      "Don't have\n",
      "Don't have\n"
     ]
    }
   ],
   "source": [
    "#Count\n",
    "\n",
    "list = [ 'Ali', 'Shahid', 'Shehzad', \"Muhammad\" ]\n",
    "for numeric_numbers in list :\n",
    "    count = 0\n",
    "    if numeric_numbers in list is int :\n",
    "        count = numeric_numbers + 1\n",
    "        print(\"Have number\")\n",
    "        break \n",
    "    else :\n",
    "        print(\"Don't have\")"
   ]
  },
  {
   "cell_type": "code",
   "execution_count": 4,
   "metadata": {},
   "outputs": [
    {
     "name": "stdin",
     "output_type": "stream",
     "text": [
      "Enter 1st Value :  55\n",
      "Enter Operator :  power\n",
      "Enter 2nd Value :  4\n"
     ]
    },
    {
     "name": "stdout",
     "output_type": "stream",
     "text": [
      "9150625\n"
     ]
    }
   ],
   "source": [
    "#Calculator\n",
    "\n",
    "val1 = int(input(\"Enter 1st Value : \"))\n",
    "operator = input(\"Enter Operator : \")\n",
    "val2 = int(input(\"Enter 2nd Value : \"))\n",
    "if operator == \"+\":\n",
    "    val = val1 + val2\n",
    "    print(val)\n",
    "elif operator == \"-\":\n",
    "        val = val1 - val2\n",
    "        print(val)\n",
    "elif operator == \"*\":\n",
    "            val = val1 * val2\n",
    "            print(val)\n",
    "elif operator == \"/\":\n",
    "                val = val1 / val2\n",
    "                print(val)\n",
    "elif operator == \"power\" or \"^\":\n",
    "                    val = val1 ** val2\n",
    "                    print(val)\n",
    "else:\n",
    "                (\"Error\")"
   ]
  },
  {
   "cell_type": "code",
   "execution_count": 5,
   "metadata": {},
   "outputs": [
    {
     "name": "stdout",
     "output_type": "stream",
     "text": [
      "78 is duplicate\n",
      "saad is duplicate\n",
      "Ahmed is duplicate\n",
      "Shahid is duplicate\n",
      "Ali is duplicate\n",
      "99 is duplicate\n"
     ]
    }
   ],
   "source": [
    "#Duplicate\n",
    "\n",
    "x = [78, \"saad\", \"Ahmed\", \"Shahid\", \"Ali\", \"Ali\", \"saad\", 78, 99,\"saad\" ]\n",
    "y = []\n",
    "for a in x :\n",
    "        if not a in y :\n",
    "            y.append(a)\n",
    "            print( a, \"is duplicate\")"
   ]
  },
  {
   "cell_type": "code",
   "execution_count": 11,
   "metadata": {},
   "outputs": [
    {
     "name": "stdout",
     "output_type": "stream",
     "text": [
      "568\n"
     ]
    }
   ],
   "source": [
    "#Sum all numeric items\n",
    "\n",
    "d = {'Item001': 456,'Item002': 14,'Item003': 98}\n",
    "result = sum(d[item] for item in d)\n",
    "print(result)\n"
   ]
  },
  {
   "cell_type": "code",
   "execution_count": 16,
   "metadata": {},
   "outputs": [
    {
     "name": "stdout",
     "output_type": "stream",
     "text": [
      "{'Item001': 455, 'Item002': 4, 'Item003': 21, 'Item004': 0}\n"
     ]
    }
   ],
   "source": [
    "#Add Key in Dictionary\n",
    "example = {\"Item001\" : 455, \"Item002\" : 4, \"Item003\" : 21,}\n",
    "example [\"Item004\"] = 0\n",
    "print(example)"
   ]
  },
  {
   "cell_type": "code",
   "execution_count": 15,
   "metadata": {},
   "outputs": [
    {
     "name": "stdin",
     "output_type": "stream",
     "text": [
      "Enter Dictionay Key :   4654\n"
     ]
    },
    {
     "name": "stdout",
     "output_type": "stream",
     "text": [
      "4654 = Given key is not in dictionary\n"
     ]
    }
   ],
   "source": [
    "#Check the key is in already exist or not\n",
    "example =  {\"Item001\" : 455, \"Item002\" : 4, \"Item003\" : 21,}\n",
    "example1 = input(\"Enter Dictionay Key :  \")\n",
    "if example1 in example.keys() :\n",
    "    print(example1, \"= The Key is Already exist\")\n",
    "else:\n",
    "     print(example1, '= Given key is not in dictionary')"
   ]
  },
  {
   "cell_type": "code",
   "execution_count": null,
   "metadata": {},
   "outputs": [],
   "source": []
  }
 ],
 "metadata": {
  "kernelspec": {
   "display_name": "Python 3",
   "language": "python",
   "name": "python3"
  },
  "language_info": {
   "codemirror_mode": {
    "name": "ipython",
    "version": 3
   },
   "file_extension": ".py",
   "mimetype": "text/x-python",
   "name": "python",
   "nbconvert_exporter": "python",
   "pygments_lexer": "ipython3",
   "version": "3.7.3"
  }
 },
 "nbformat": 4,
 "nbformat_minor": 4
}
