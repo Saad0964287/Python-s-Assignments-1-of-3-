{
 "cells": [
  {
   "cell_type": "code",
   "execution_count": 1,
   "metadata": {},
   "outputs": [
    {
     "name": "stdout",
     "output_type": "stream",
     "text": [
      "You Want Buy Movie Ticket?\n"
     ]
    },
    {
     "name": "stdin",
     "output_type": "stream",
     "text": [
      "Enter Your Age :  15\n"
     ]
    },
    {
     "name": "stdout",
     "output_type": "stream",
     "text": [
      "Your TICKET'S price is :  $15\n"
     ]
    }
   ],
   "source": [
    "#Buy Movie Ticket\n",
    "\n",
    "print (\"You Want Buy Movie Ticket?\")\n",
    "ticket_price_list = [\"$10\",\"$15\"]\n",
    "age = int(input(\"Enter Your Age : \"))\n",
    "if age < 3:\n",
    "    print(\"Your TICKET is FREE ... Enjoy... \")\n",
    "elif age >= 3 and age <=12 :\n",
    "    print(\"Your TICKET'S price is : \",ticket_price_list[0])\n",
    "elif age >12:\n",
    "    print(\"Your TICKET'S price is : \",ticket_price_list[1])\n",
    "else :\n",
    "    print(\"You Enter An Invalid Age \" )\n",
    "    print(\"Retype Your Age \")"
   ]
  },
  {
   "cell_type": "code",
   "execution_count": 2,
   "metadata": {},
   "outputs": [
    {
     "name": "stdin",
     "output_type": "stream",
     "text": [
      "Enter Book Title :  wonderland\n"
     ]
    },
    {
     "name": "stdout",
     "output_type": "stream",
     "text": [
      "One of my favorite books is  wonderland\n"
     ]
    }
   ],
   "source": [
    "#Book Title\n",
    "\n",
    "def function_book(title) :\n",
    "    print(\"One of my favorite books is \",title)\n",
    "\n",
    "title = input(\"Enter Book Title : \")\n",
    "function_book(title)"
   ]
  },
  {
   "cell_type": "code",
   "execution_count": 3,
   "metadata": {},
   "outputs": [
    {
     "name": "stdout",
     "output_type": "stream",
     "text": [
      "We have three cities information.\n",
      " a) karachi \n",
      " b) lahore \n",
      " c) peshawar \n",
      " \n"
     ]
    },
    {
     "name": "stdin",
     "output_type": "stream",
     "text": [
      "Enter City Name :  karachi\n"
     ]
    },
    {
     "name": "stdout",
     "output_type": "stream",
     "text": [
      "{'Population': '2 Million', 'Language': 'Urdu', 'Specialty In Food': 'Gutkaa', 'Famous Place': 'Tomb of founder of Pakistan which is QUAID-E-AZAM MUHAMMAD ALI JINNAH.'}\n"
     ]
    }
   ],
   "source": [
    "#City \n",
    "Cities = {\n",
    "\"Karachi\" : { \"Population\" : \"2 Million\",\n",
    "\"Language\" : \"Urdu\",\n",
    "\"Specialty In Food\" : \"Gutkaa\",\n",
    "\"Famous Place\" : \"Tomb of founder of Pakistan which is QUAID-E-AZAM MUHAMMAD ALI JINNAH.\" }\n",
    ",\n",
    "\"Lahore\" : { \"Population\" : \"0.50 Million\",\n",
    "\"Language\" : \"Punjabi\",\n",
    "\"Specialty In Food\" : \"Khoota\",\n",
    "\"Famous Place\" : \"Minaar-E-Pakistan ,a place where Pakistan's Resolution was passed.\" }\n",
    ",\n",
    "\"Peshawar\" : { \"Population\" : \"0.25 Million\",\n",
    "\"Language\" : \"Pashtoo\",\n",
    "\"Specialty In Food\" : \"Naswaar\",\n",
    "\"Famous Place\" : \"Khyber Pass , a Door used to enter in Pakistan from Afghanistan\"\n",
    "}\n",
    "}\n",
    "print(\"We have three cities information.\\n a) karachi \\n b) lahore \\n c) peshawar \\n \")\n",
    "name = str(input(\"Enter City Name : \"))\n",
    "if name == \"karachi\" :\n",
    "    print(Cities[\"Karachi\"])\n",
    "elif name == \"lahore\" :\n",
    "   \tprint(Cities[\"Lahore\"])\n",
    "elif name == \"peshawar\" :\n",
    "    print(Cities[\"Peshawar\"])\n",
    "else :\n",
    "    print(\"You Entered An INVALID City Name.\")"
   ]
  },
  {
   "cell_type": "code",
   "execution_count": 4,
   "metadata": {},
   "outputs": [
    {
     "name": "stdout",
     "output_type": "stream",
     "text": [
      "{'First_Name': 'Hamid', 'Second_Name': 'Raza', 'Age': '23'}\n",
      "{'First_Name': 'Hamid', 'Second_Name': 'Raza', 'Age': '23', 'Qualification': 'B.sc'}\n",
      "{'First_Name': 'Hamid', 'Second_Name': 'Raza', 'Qualification': 'B.sc'}\n"
     ]
    }
   ],
   "source": [
    "#Adding in Dictionary & Removing in Dictionary.\n",
    "\n",
    "Details = {\n",
    "    \"First_Name\" : \"Hamid\",\n",
    "    \"Second_Name\" : \"Raza\",\n",
    "    \"Age\" : \"23\"\n",
    "}\n",
    "print(Details)\n",
    "Details [\"Qualification\"] = \"B.sc\"\n",
    "print(Details)\n",
    "del Details[\"Age\"]\n",
    "print(Details)"
   ]
  },
  {
   "cell_type": "code",
   "execution_count": 7,
   "metadata": {},
   "outputs": [
    {
     "name": "stdout",
     "output_type": "stream",
     "text": [
      "You have 3 chances to guess number.\n"
     ]
    },
    {
     "name": "stdin",
     "output_type": "stream",
     "text": [
      "Guess Number :  4\n"
     ]
    },
    {
     "name": "stdout",
     "output_type": "stream",
     "text": [
      "Answer is :  17 \n",
      "You Guess Wrong Number\n",
      "\n",
      "\n",
      "You have 2 chances Remaining. Guess Numeber.\n"
     ]
    },
    {
     "name": "stdin",
     "output_type": "stream",
     "text": [
      "Guess Number :  15\n"
     ]
    },
    {
     "name": "stdout",
     "output_type": "stream",
     "text": [
      "Answer is :  24 \n",
      "You Guess Wrong Number\n",
      "\n",
      "\n",
      "You have Last Chance Remaining. Guess Number\n"
     ]
    },
    {
     "name": "stdin",
     "output_type": "stream",
     "text": [
      "Guess Number :  42\n"
     ]
    },
    {
     "name": "stdout",
     "output_type": "stream",
     "text": [
      "Answer is :  9 \n",
      "You Guess Wrong Number\n",
      "\n",
      "\n",
      "You dont have any\n"
     ]
    }
   ],
   "source": [
    "#Generate Random Number\n",
    "import random\n",
    "\n",
    "\n",
    "print(\"You have 3 chances to guess number.\")\n",
    "def Randomly() :\n",
    "    a = random.randint(1,30)\n",
    "    b = int(input(\"Guess Number : \"))\n",
    "    if b == a :\n",
    "        print(\"Answer is : \",a ,\"You Guess a Write Number\")\n",
    "    else :\n",
    "        print(\"Answer is : \" ,a , \"\\nYou Guess Wrong Number\")\n",
    "    \n",
    "Randomly()\n",
    "print(\"\\n\\nYou have 2 chances Remaining. Guess Numeber.\")\n",
    "Randomly()\n",
    "print(\"\\n\\nYou have Last Chance Remaining. Guess Number\")\n",
    "Randomly()\n",
    "print('\\n\\nYou dont have any chance...' )"
   ]
  },
  {
   "cell_type": "code",
   "execution_count": null,
   "metadata": {},
   "outputs": [],
   "source": []
  },
  {
   "cell_type": "code",
   "execution_count": null,
   "metadata": {},
   "outputs": [],
   "source": []
  }
 ],
 "metadata": {
  "kernelspec": {
   "display_name": "Python 3",
   "language": "python",
   "name": "python3"
  },
  "language_info": {
   "codemirror_mode": {
    "name": "ipython",
    "version": 3
   },
   "file_extension": ".py",
   "mimetype": "text/x-python",
   "name": "python",
   "nbconvert_exporter": "python",
   "pygments_lexer": "ipython3",
   "version": "3.7.3"
  }
 },
 "nbformat": 4,
 "nbformat_minor": 4
}
